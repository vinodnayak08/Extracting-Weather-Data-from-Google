{
  "nbformat": 4,
  "nbformat_minor": 0,
  "metadata": {
    "colab": {
      "name": "Weather.ipynb",
      "provenance": []
    },
    "kernelspec": {
      "name": "python3",
      "display_name": "Python 3"
    },
    "language_info": {
      "name": "python"
    }
  },
  "cells": [
    {
      "cell_type": "code",
      "metadata": {
        "colab": {
          "base_uri": "https://localhost:8080/"
        },
        "id": "8w0qg9ZPR-Jd",
        "outputId": "235eb483-5543-47c9-b861-4e7ba88c026a"
      },
      "source": [
        "from bs4 import BeautifulSoup\n",
        "import requests\n",
        "headers = {'User-Agent': 'Mozilla/5.0 (Windows NT 10.0; Win64; x64) AppleWebKit/537.36 (KHTML, like Gecko) Chrome/58.0.3029.110 Safari/537.3'}\n",
        "\n",
        "def weather(city):\n",
        "    city=city.replace(\" \",\"+\")\n",
        "    res = requests.get(f'https://www.google.com/search?q={city}&oq={city}&aqs=chrome.0.35i39l2j0l4j46j69i60.6128j1j7&sourceid=chrome&ie=UTF-8',headers=headers)\n",
        "    print(\"Searching in google......\\n\")\n",
        "    soup = BeautifulSoup(res.text,'html.parser')   \n",
        "    location = soup.select('#wob_loc')[0].getText().strip()  \n",
        "    time = soup.select('#wob_dts')[0].getText().strip()       \n",
        "    info = soup.select('#wob_dc')[0].getText().strip() \n",
        "    weather = soup.select('#wob_tm')[0].getText().strip()\n",
        "    print(location)\n",
        "    print(time)\n",
        "    print(info)\n",
        "    print(weather+\"°C\") \n",
        "\n",
        "print(\"enter the city name\")\n",
        "city=input()\n",
        "city=city+\" weather\"\n",
        "weather(city)"
      ],
      "execution_count": 7,
      "outputs": [
        {
          "output_type": "stream",
          "name": "stdout",
          "text": [
            "enter the city name\n",
            "Thane\n",
            "Searching in google......\n",
            "\n",
            "Thane, Maharashtra, India\n",
            "Wednesday 10:00 AM\n",
            "Smoke\n",
            "88°C\n"
          ]
        }
      ]
    }
  ]
}